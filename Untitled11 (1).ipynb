{
 "cells": [
  {
   "cell_type": "markdown",
   "id": "e99d05ab-dfef-46b1-9dae-29f91d913277",
   "metadata": {},
   "source": [
    "#### Задача 1.1 (1 балл)\r\n",
    "Если A=1,2,3 и B=3,4,5,6,7, чему равно P(A)∩P(B)?"
   ]
  },
  {
   "cell_type": "code",
   "execution_count": 7,
   "id": "2e6d8951-bd6c-4312-9fb5-c3d5fac1fcaf",
   "metadata": {},
   "outputs": [
    {
     "name": "stdout",
     "output_type": "stream",
     "text": [
      "Ответ:  {(), (3,)}\n"
     ]
    }
   ],
   "source": [
    "from itertools import chain, combinations\n",
    "\n",
    "def powerset(iterable):\n",
    "    s = list(iterable)\n",
    "    return chain.from_iterable(combinations(s, r) for r in range(len(s)+1))\n",
    "\n",
    "# Пример использования\n",
    "A = {1, 2, 3}\n",
    "B = {3, 4, 5, 6, 7}\n",
    "P_A = set(powerset(A))\n",
    "P_B = set(powerset(B))\n",
    "print(\"Ответ: \" ,P_A & P_B)  "
   ]
  },
  {
   "cell_type": "markdown",
   "id": "78536b8a-6d12-4eb9-a7f7-2da02aba6b97",
   "metadata": {},
   "source": [
    "Комментарий\n",
    "1. В булеане всегда есть пустое множество\n",
    "2. {3} - единственный общий элемент в А и В\n",
    "3. =>, P(A) ∩ P(B) = {(), (3)}"
   ]
  },
  {
   "cell_type": "markdown",
   "id": "6a1bb4fc-65ea-47c8-baa7-4f3e57c96d06",
   "metadata": {},
   "source": [
    "#### Задача 1.2 (1 балл)\n",
    "Перечислите через запятую в порядке возрастания элементы множества {a∈R∣a^2 =4}. "
   ]
  },
  {
   "cell_type": "markdown",
   "id": "0b1cd81c-e042-41af-9bd5-775926a12f08",
   "metadata": {},
   "source": [
    "Комментарий\n",
    "\n",
    "Из множества действительных чисел  числа  2 и -2 при возведении в квадрат равны 4.\n",
    "\n",
    "Ответ: 2, -2"
   ]
  },
  {
   "cell_type": "markdown",
   "id": "12de5e84-2995-4716-9b8c-bf3c56a98dcd",
   "metadata": {},
   "source": [
    "#### Задача 1.3 (1 балл)\n",
    "Пусть A=3,6,7. Перечислите через запятую в порядке возрастания элементы множества /n∈Z∣n+2∈A/."
   ]
  },
  {
   "cell_type": "markdown",
   "id": "851433f1-cc3d-488c-a659-19e7735dff59",
   "metadata": {},
   "source": [
    "Комментарий\n",
    "\n",
    "Необходимы найти целые числа (Z), удовлетворяющие условиям:\n",
    "n1 + 2 = 3, n2 + 2 = 6, n3 + 2 = 7, это 1, 4, 5\n",
    "\n",
    "Ответ: {1, 4, 5}"
   ]
  },
  {
   "cell_type": "markdown",
   "id": "821bc589-0fd4-472d-8326-236311ad43c0",
   "metadata": {},
   "source": [
    "#### Задача 1.4 (1 балл)\n",
    "Что из нижеперечисленного совпадает с множеством (A∩B)∪(A∖B)?\n",
    "A, B, A∪B, A△B"
   ]
  },
  {
   "cell_type": "markdown",
   "id": "656aa860-d0da-4aa9-aa0c-86e797e69529",
   "metadata": {},
   "source": [
    "Комментарий\n",
    "\n",
    "![](C:\\Users\\Svet\\Desktop\\1_4.jpg)\n",
    "\n",
    "Ответ: А"
   ]
  },
  {
   "cell_type": "markdown",
   "id": "cf438a98-601f-4892-a74d-887734348331",
   "metadata": {},
   "source": [
    "#### Задача 1.5  (1 балл)\n",
    "Пусть A<sub>i</sub> = 1,2,…,i для i∈N. Чему равны множества ⋃<sub>i∈N</sub>A<sub>i</sub> и ⋂<sub>i∈N</sub>A<sub>i</sub>? "
   ]
  },
  {
   "cell_type": "markdown",
   "id": "a012deb6-00ae-425e-96fa-f567d7db2c93",
   "metadata": {},
   "source": [
    "Комментарий:\n",
    "\n",
    "A<sub>1</sub> = {1}  \n",
    "A<sub>2</sub> = {1, 2}  \n",
    "A<sub>3</sub> = {1, 2, 3}  \n",
    "A<sub>4</sub> = {1, 2, 3, 4} и тд \n",
    "\n",
    "=>, во всех множествах есть {1}.  \n",
    "\n",
    "Ответ:  \n",
    "⋂<sub>i∈N</sub>A<sub>i</sub> = {1}  \n",
    "⋃<sub>i∈N</sub>A<sub>i</sub> = {1, 2, ..., n} или N"
   ]
  },
  {
   "cell_type": "markdown",
   "id": "f7799494-b064-40b2-833c-206bfd022f92",
   "metadata": {},
   "source": [
    "#### Задача 1.6 (1 балл)  \r\n",
    "Выберите верные утверждения (под (a,b) понимается декартова пара элементов a  и).b b"
   ]
  },
  {
   "cell_type": "markdown",
   "id": "40d4692a-ed05-4be9-bde0-12a95ca7e506",
   "metadata": {},
   "source": [
    "![](C:\\Users\\Svet\\Desktop\\1_6.jpg)"
   ]
  },
  {
   "cell_type": "markdown",
   "id": "5725df8b-2ceb-4798-8a7b-bb52a3117e69",
   "metadata": {},
   "source": [
    "Ответ:"
   ]
  },
  {
   "cell_type": "markdown",
   "id": "c7562388-4b9e-4946-ab7a-635c7d763538",
   "metadata": {},
   "source": [
    "![](C:\\Users\\Svet\\Desktop\\1_6__.jpg)"
   ]
  },
  {
   "cell_type": "markdown",
   "id": "2fdf029c-3f2b-47bd-b425-17d08ac5228c",
   "metadata": {},
   "source": [
    "#### Задача 1.7 (1 балл)  \n",
    "Какое из ниже перечисленных отношений выражает отношение Q — «быть не меньше», через отношение R — «быть больше» (на N)?"
   ]
  },
  {
   "cell_type": "markdown",
   "id": "a7c18ee5-d8a6-40e4-a71e-27988472fd18",
   "metadata": {},
   "source": [
    "![](C:\\Users\\Svet\\Desktop\\1_7.jpg)"
   ]
  },
  {
   "cell_type": "markdown",
   "id": "a6723e6c-2f15-4595-a20d-be40820faeb9",
   "metadata": {},
   "source": [
    "#### Комменарий  \n",
    "\n",
    "R — «быть больше», значит  R<sup>-1</sup> — «быть меньше».  \n",
    "\"Быть не меньше\" - значит, быть или равным, или быть больше\n",
    "Дополнение отношения R<sup>-1</sup> - содержит все случаи, которые не входят в R<sup>-1</sup>: быть больше и быть равным.  \n",
    "Значит, из преложенных вариантов правильным является первый.\n",
    "\n",
    "Ответ:  \n",
    "Первые вариант Q = дополнение (R<sup>-1</sup>) /с чертой сверху/\n"
   ]
  },
  {
   "cell_type": "markdown",
   "id": "cf927790-3563-4b19-9f4c-da9eda7e41e6",
   "metadata": {},
   "source": [
    "# Задача 1.8 (с объяснением) (3 балла)  \n",
    "Докажите, что объединение двух интервалов равномощно отрезку. Используйте теорему Кантора-Бернштейна."
   ]
  },
  {
   "cell_type": "markdown",
   "id": "3ab6630f-cdb9-4381-9e2a-48169ed19c28",
   "metadata": {},
   "source": [
    "#### Задача 1.9 (1 балл)  \n",
    "Какие из следующих формул являются тавтологиями (их значение всегда равно 1 при любых x,y,z)?  \n",
    "\n",
    "![](C:\\Users\\Svet\\Desktop\\1_9.jpg)"
   ]
  },
  {
   "cell_type": "markdown",
   "id": "1e494335-7e9a-4b0a-88d5-ad57131aaded",
   "metadata": {},
   "source": [
    "Комментарий:  \n",
    "\n",
    "![](C:\\Users\\Svet\\Desktop\\1_9__.jpg)"
   ]
  },
  {
   "cell_type": "markdown",
   "id": "386cdf1c-47e8-4c33-8f37-966deb5946af",
   "metadata": {},
   "source": [
    "Ответ:  \n",
    "Первые 2 выражения"
   ]
  },
  {
   "cell_type": "markdown",
   "id": "056bcefa-e8ef-4b24-8b2f-2a41f02a4ca9",
   "metadata": {},
   "source": [
    "#### Задача 1.10 (1 балл)  \n",
    "Какая из формул наиболее близко описывает фразу:\n",
    "«Если первый сотрудник отсутствует, то, если и второй сотрудник отсутствует, необходимо позвонить начальнику»? Где x — первый отсутствует, y — второй отсутствует, z — нужно звонить начальнику"
   ]
  },
  {
   "cell_type": "markdown",
   "id": "78abb266-8a2f-43cd-a1d4-7687b1e549ed",
   "metadata": {},
   "source": [
    "![](C:\\Users\\Svet\\Desktop\\1_10.jpg)"
   ]
  },
  {
   "cell_type": "markdown",
   "id": "06d849da-4eff-4ee3-bcf5-69b7b7b35de1",
   "metadata": {},
   "source": [
    "Комментарий  \n",
    "В выражение содержатся 2 \"если\", они вложены друг в друга. Первый вариант отражает верную суть."
   ]
  },
  {
   "cell_type": "markdown",
   "id": "a68bd873-4b60-459f-8fb5-87776dc80fd1",
   "metadata": {},
   "source": [
    "Ответ:"
   ]
  },
  {
   "cell_type": "markdown",
   "id": "0e444552-9eff-4639-9d12-adf8c9794f08",
   "metadata": {},
   "source": [
    "![](C:\\Users\\Svet\\Desktop\\1_10__.jpg)"
   ]
  },
  {
   "cell_type": "markdown",
   "id": "66864895-6d40-46b7-a424-d9a74ee567f6",
   "metadata": {},
   "source": [
    "#### Задача 1.11 (1 балл)  \n",
    "Какая из формул означает существование наибольшего элемента?"
   ]
  },
  {
   "cell_type": "markdown",
   "id": "5f0afa63-5335-44ab-b613-1ac77a2f6704",
   "metadata": {},
   "source": [
    "![](C:\\Users\\Svet\\Desktop\\1_11.jpg)"
   ]
  },
  {
   "cell_type": "markdown",
   "id": "a84074e5-7199-4db7-8402-42851065c1ef",
   "metadata": {},
   "source": [
    "Комментарий\n",
    "\n",
    "Подходит последний вариант: существует такой y, что для каждого x выполняется неравенство y >= x"
   ]
  },
  {
   "cell_type": "markdown",
   "id": "f4dec924-1f2d-41f0-9768-db1b6e213587",
   "metadata": {},
   "source": [
    "Ответ"
   ]
  },
  {
   "cell_type": "markdown",
   "id": "e8be6707-f527-4691-8b7c-6bfa69ee34df",
   "metadata": {},
   "source": [
    "![](C:\\Users\\Svet\\Desktop\\1_11__.jpg)"
   ]
  },
  {
   "cell_type": "markdown",
   "id": "593e164b-4d75-418f-97d7-b39868005551",
   "metadata": {},
   "source": [
    "#### Задача 1.12 (1 балл)  \n",
    "Какая из формул является отрицанием формулы ∀x,∃y,P(x,y), где P(x,y) — произвольное высказывание?"
   ]
  },
  {
   "cell_type": "markdown",
   "id": "fe0db070-9173-4918-801b-153753583f53",
   "metadata": {},
   "source": [
    "![](C:\\Users\\Svet\\Desktop\\1_12.jpg)"
   ]
  },
  {
   "cell_type": "markdown",
   "id": "81ae15bf-5efe-4b4a-ad67-1b938dcce6bb",
   "metadata": {},
   "source": [
    "Ответ"
   ]
  },
  {
   "cell_type": "markdown",
   "id": "3f929352-f96f-448f-a1dd-5e1215a53c3b",
   "metadata": {},
   "source": [
    "![](C:\\Users\\Svet\\Desktop\\1_12__.jpg)"
   ]
  },
  {
   "cell_type": "markdown",
   "id": "48f7d1f3-24c0-4c8c-b56d-abbc53984541",
   "metadata": {},
   "source": [
    "#### Задача 1.13 (1 балл)  \n",
    "Дана булева формула x \n",
    "\n",
    "![](C:\\Users\\Svet\\Desktop\\1_13.jpg)\n",
    "\n",
    "(всего 9 вложенных импликаций). Сколько существует наборов значений переменных, на которых формула принимает значение 0."
   ]
  },
  {
   "cell_type": "markdown",
   "id": "7cb9c685-ebde-4286-ae95-1be5967dcb60",
   "metadata": {},
   "source": [
    "Комментарий  \n",
    "\n",
    "Импликация равна 0 только в одном случае: 1 → 0."
   ]
  },
  {
   "cell_type": "markdown",
   "id": "a90ec8af-b8e1-4f36-8ad6-8dc52c069850",
   "metadata": {},
   "source": [
    "Ответ  \n",
    "Существует только один набор значений перменных, на котором формула принимает значение 0:  \n",
    "x<sub>1</sub> = x<sub>2</sub> = ... = x<sub>9</sub> = 1,  \n",
    "x<sub>10</sub> = 0."
   ]
  },
  {
   "cell_type": "markdown",
   "id": "1b4ea999-db4d-412b-aa6b-117d4d5663ab",
   "metadata": {},
   "source": [
    "#### Задача 1.14 (1 балл)  \n",
    "Сколько существует различных булевых функций от трёх переменных?  \n",
    "(Каждая функция принимает три аргумента — 0 или 1, и возвращает одно значение — 0 или 1)  \n",
    "\n",
    "Комментарий  \n",
    "\n",
    "Каждая функция принимает 3 аргумента, то есть существует 2<sup>3</sup> = 8 комбинация входных значений.  \n",
    "Выходных значений 2, то есть получаем 2<sup>8</sup> = 256 различных булевых функций.\n",
    "\n",
    "Ответ:  \n",
    "256"
   ]
  },
  {
   "cell_type": "markdown",
   "id": "cc8a9949-e5e4-49e8-bda5-1b053b5fdd1f",
   "metadata": {},
   "source": [
    "#### Задача 1.15 (1 балл)  \n",
    "Студенту поступило 7 предложений работы программистом в Москве, 15 предложений работы программистом в Санкт-Петербурге и 20 предложений работы программистом в Казани. Сколькими способами студент может выбрать, где работать?\n"
   ]
  },
  {
   "cell_type": "markdown",
   "id": "b714c8d3-e492-483c-a45d-2d14dbf5b408",
   "metadata": {},
   "source": [
    "Комментарий  \n",
    "\n",
    "Всего студенту поступило 7 + 15 + 20 = 42 предложения. Обычно имеют занятость на одной работе, то есть выбор одного исключает выбор другого (несовместность).\n",
    "Поэтому он может выбрать 42 способами.\n",
    "\n",
    "Ответ:  \n",
    "42"
   ]
  },
  {
   "cell_type": "markdown",
   "id": "b79dfc79-ba56-45ae-96e6-e058464b841e",
   "metadata": {},
   "source": [
    "#### Задача 1.16 (1 балл)  \n",
    "Студент имеет 40 способов выбрать работу. Предложения поступили из трёх городов: Москвы, Санкт-Петербурга и Казани. Известно, что из Москвы поступило 10 предложений, а из Санкт-Петербурга в два раза меньше, чем из Казани.\n",
    "Сколько предложений поступило из Казани?"
   ]
  },
  {
   "cell_type": "markdown",
   "id": "c44be3be-61c4-4992-9a09-1894acb67fc6",
   "metadata": {},
   "source": [
    "Комментарий  \n",
    "Обычно имеют занятость на одной работе, то есть выбор одного исключает выбор другого (несовместность). Поэтому 40 способов выбрать работу = 40 предложений работы.\n",
    "Пусть x - количетсво предожений из Спб, значит, 2x - количетсво предложений из Казани. Получаем уравнения с одним неизвестным:  \n",
    "x + 2x + 10 = 40. \n",
    "x = 10.\n",
    "2x = 2 * 10 = 20.\n",
    "\n",
    "Ответ:  \n",
    "20"
   ]
  },
  {
   "cell_type": "markdown",
   "id": "42aedb30-e4bb-4dcd-881c-63c0cc8ae9cd",
   "metadata": {},
   "source": [
    "### Задача 1.17 (1 балл)  \n",
    "В компании формируется команда для разработки сайта. Для выполнения нужно выбрать трёх людей: одного из отдела маркетинга, в котором работают 3 человека, одного из десяти программистов и одного из пяти дизайнеров.\n",
    "Сколько различных способов составить команду?  \n",
    "\n",
    "Комментарий  \n",
    "  \n",
    "Из отдела маркетинга мы можем выбрать сотрудника 3 способами.  \n",
    "Программистов можем выбрать 10 способами.  \n",
    "Дизайнеров может выбрать 5 способами.  \n",
    "\n",
    "Здесь применяется праивла умножения для независимыз выборов:  \n",
    "3 * 10 * 5 = 150 \n",
    "\n",
    "Ответ:   \n",
    "150"
   ]
  },
  {
   "cell_type": "markdown",
   "id": "ddca89c8-7804-42ff-85af-975a281bc07d",
   "metadata": {},
   "source": [
    "#### Задача 1.18 (1 балл)  \r\n",
    "В компанию необходимо пригласить двух сотрудников в две разные команды разработчиков. Для этого было размещено 9 объявлений на различных сайтах. Оказалось, что от каждого из 5 сайтов пришло по 2 резюме, и от каждого из оставшихся 4 сайтов по 3 резюме. Все резюме пришли от разных людей.\r\n",
    "Сколько есть вариантов набрать сотрудников?"
   ]
  },
  {
   "cell_type": "markdown",
   "id": "d2d56704-5735-4f88-8712-f4983a431430",
   "metadata": {},
   "source": [
    "Комментарий  \n",
    "Так как сотрудников набирают в разные команды, то порядок имеет значение.\n",
    "Всего имеется 5 * 2 + 4 * 3 = 22 резюме.\n",
    "Задача сводится к формуле \"размещение без повторения\":\n",
    "A(2, 22) = 22! / 20! = 21 * 22 = 462  \n",
    "\n",
    "Ответ:  \n",
    "462"
   ]
  },
  {
   "cell_type": "markdown",
   "id": "bbc69655-0d19-417c-b9ef-8dab946ca9a6",
   "metadata": {},
   "source": [
    "#### Задача 1.19 (1 балл)\n",
    "Три программиста работают в одной комнате. Каждый программист находится за рабочим местом или нет. Сколько разных вариантов «нахождений» за рабочими местами может увидеть начальник, заходя в комнату?\n",
    "Например, один из вариантов: первый программист за своим рабочим местом, второй программист за своим рабочим местом, третий программист не за своим рабочим местом."
   ]
  },
  {
   "cell_type": "markdown",
   "id": "0ce308be-b3e5-497c-a40f-215cc23eb10c",
   "metadata": {},
   "source": [
    "Комметарий\n",
    "У каждого программиста 2 состояия: находится за рабочим столом, не находится за рабочи столом.\n",
    "Всего программистов 3.\n",
    "Значит, количество разных вариантов = 2<sup>3</sup> = 8.  \n",
    "\n",
    "Ответ:  \n",
    "8"
   ]
  },
  {
   "cell_type": "markdown",
   "id": "03c2c9e2-ec3b-46b2-874d-bd7e58d73da2",
   "metadata": {},
   "source": [
    "#### Задача 1.21 (с объяснением) (3 балла)\n",
    "Найдите число различных положительных делителей:  \n",
    "у числа 2<sup>k</sup>.  \n",
    "у числа 2<sup>k</sup>⋅3<sup>n</sup>.  \n",
    "у числа p<sub>1</sub><sup>k<sub>1</sub></sup>⋅p<sub>2</sub><sup>k<sub>2</sub></sup>⋯p<sub>t</sub><sup>k<sub>t</sub></sup>, где p<sub>1</sub> ,…, p<sub>t</sub> — попарно различные простые."
   ]
  },
  {
   "cell_type": "markdown",
   "id": "74045468-ee02-49af-ac30-71d211d78d64",
   "metadata": {},
   "source": [
    "Комментарий  \n",
    "1. 2<sup>k</sup> = 2⋅2⋅...⋅2. Количество множителей = k. То есть получаем k различный положительных делителей: 2, 2⋅2, 2⋅2⋅2 и тд. К положитеьным делителям такде относится и число 1, что равносильно 2<sup>0</sup>, то есть k=0. Итого имеем (k + 1) различных положительных делителей.\n",
    "\n",
    "2. 2<sup>k</sup>⋅3<sup>n</sup>. То есть берем k двоек и n троек и перемножаем. k и n выбираются независимо друг от друга, причем k или n могут равняться нулю. Здесь применяется правило умножения для нахождения количества комбинации: (k + 1)⋅(n + 1)   \n",
    "                                                                                                                                                                                                                             \n",
    "3. Рассуждения аналогичны пункту 1 и 2. Соотвественно, число различных положительных делителей = (k<sub>1</sub> + 1)⋅(k<sub>2</sub> + 1)⋅...⋅(k<sub>t</sub> + 1).  \n",
    "\n",
    "Ответ:  \n",
    "1. (k + 1)  \n",
    "2. (k + 1)⋅(n + 1)\n",
    "3. (k<sub>1</sub> + 1)⋅(k<sub>2</sub> + 1)⋅...⋅(k<sub>t</sub> + 1)                                                                                                                                                                                                                            "
   ]
  },
  {
   "cell_type": "markdown",
   "id": "8d8ccebf-e335-41ae-a05c-41f6eaaca154",
   "metadata": {},
   "source": [
    "#### Задача 1.22 (с решением) (3 балла)\n",
    "Два студента договорились встретиться между 9 и 10 часами на станции метро «Университет». Каждый приходит в случайное время между 9 и 10 часами и ждет не более 15 минут, а потом - уезжает. С какой вероятностью они встретятся?"
   ]
  },
  {
   "cell_type": "markdown",
   "id": "bc6a68db-542d-4cd3-b6fb-c9957dc10436",
   "metadata": {},
   "source": [
    "Комментарий  \n",
    "\n",
    "Для решения этой задачи нужно воспользоваться геометрическим методом. Пусть по оси абсцисс - время прихода первого студента, по оси ординат время прихода второго студента. Они договорились встретиться между 9 и 10 часами, то есть получается квадрат со сторонй 1 час (60 минут).\n",
    "Они встретятся в том случае, если  \n",
    "|Y - X| <= 0,25 (15 минут).\n",
    "=>, Y - X <= 0.25, Y - X >= -0.25. \n",
    "Получаем 2 линии: Y = X + 0.25 и Y = X - 0.25.   \n",
    "Область встречи лежит под линией графика Y = X + 0.25 (так как Y - X <= 0.25, Y <= X + 0.25) и над линией графика Y = X - 0.25 (так как Y - X >= -0.25, Y >= X - 0.25). \n",
    "Ниже представлен график.\n",
    "\n",
    "\n"
   ]
  },
  {
   "cell_type": "code",
   "execution_count": 7,
   "id": "e6e9594e-2e16-45a8-8208-bfd5a1bcb91d",
   "metadata": {
    "jupyter": {
     "source_hidden": true
    }
   },
   "outputs": [
    {
     "data": {
      "image/png": "[encoded data removed]",
      "text/plain": [
       "<Figure size 800x800 with 1 Axes>"
      ]
     },
     "metadata": {},
     "output_type": "display_data"
    }
   ],
   "source": [
    "# # hide-input\n",
    "import matplotlib.pyplot as plt\n",
    "import numpy as np\n",
    "\n",
    "def plot_meeting_probability():\n",
    "    # Создаем фигуру\n",
    "    plt.figure(figsize=(8, 8))\n",
    "    \n",
    "    # Рисуем единичный квадрат [0,1] x [0,1]\n",
    "    plt.plot([0, 1], [0, 0], 'k-')\n",
    "    plt.plot([1, 1], [0, 1], 'k-')\n",
    "    plt.plot([1, 0], [1, 1], 'k-')\n",
    "    plt.plot([0, 0], [1, 0], 'k-')\n",
    "    \n",
    "    # Параметры для графика\n",
    "    wait_time = 0.25  # 15 минут в часах\n",
    "    x = np.linspace(0, 1, 1000)\n",
    "    \n",
    "    # Область, где встреча происходит\n",
    "    y1 = np.maximum(x - wait_time, 0)\n",
    "    y2 = np.minimum(x + wait_time, 1)\n",
    "    \n",
    "    # Заливаем область встречи\n",
    "    plt.fill_between(x, y1, y2, color='skyblue', alpha=0.5, label='Область встречи')\n",
    "    \n",
    "    # Диагональная линия (равное время прихода)\n",
    "    plt.plot(x, x, 'r--', label='t1 = t2')\n",
    "    \n",
    "    # Настройка графика\n",
    "    plt.xlim(0, 1)\n",
    "    plt.ylim(0, 1)\n",
    "    plt.xlabel('Время прихода первого студента (часы)')\n",
    "    plt.ylabel('Время прихода второго студента (часы)')\n",
    "    plt.title('Геометрическая вероятность встречи студентов')\n",
    "    plt.legend()\n",
    "    plt.grid(True)\n",
    "    plt.gca().set_aspect('equal', adjustable='box')  # Квадратный график\n",
    "    plt.show()\n",
    "\n",
    "# Запуск построения графика\n",
    "plot_meeting_probability()"
   ]
  },
  {
   "cell_type": "markdown",
   "id": "a65a3cda-dccc-46cc-90cc-cba70845b947",
   "metadata": {},
   "source": [
    "Теперь осталость найти площадь закрашенной области, общую площадь, поделить друг на друга - это и будет искомый ответ.\n",
    "Общая площадь S = 1 * 1 = 1.  \n",
    "Площадь треугольника = (1 - 0.25) * (1 - 0.25) * 0.5 = 0.28125.  \n",
    "Треугольника два, то есть площадь белой области = 0.28125 * 2 = 0.5625.  \n",
    "Площадь закрашенной области = 1 - 0.5625 = 0.4375.  \n",
    "\n",
    "Таким образом, вероятность встречи = 0.4375 / 1 = 0.4375\n",
    "\n",
    "Ответ:  \n",
    "0.4375 (43.75%)"
   ]
  },
  {
   "cell_type": "markdown",
   "id": "427b5a32-24b2-484b-8762-7d2d4d8408a7",
   "metadata": {},
   "source": [
    "# Задача 1.23 (с решением) (3 балла)\n",
    "В самолет садится n пассажиров. Каждый имеет свое место. Первой заходит старушка и садится случайно. Каждый следующий садится на свое место, если оно свободно, или садится на случайное место из оставшихся.\n",
    "С какой вероятностью:\n",
    "1) Последний пассажир сядет на свое место?\n",
    "2) Предпоследний пассажир сядет на свое место?\n",
    "3) И последний, и предпоследний пассажиры сядут на свои места?  \n",
    "\n",
    "\n"
   ]
  },
  {
   "cell_type": "markdown",
   "id": "24f86abb-fee1-473e-a09e-3e16712c59a8",
   "metadata": {},
   "source": [
    "#### Задача 1.25 (аналитическое решение) (3 балла)\n",
    "За 8 часов рабочего дня в колл-центр поступает в среднем 16 звонков. Найдите вероятность, что за час в колл-центр поступит не более 4 и не менее 2 звонков. Ответ округлите до тысячных."
   ]
  },
  {
   "cell_type": "markdown",
   "id": "7da96fce-38cc-4257-ac7a-c835c14d56d7",
   "metadata": {},
   "source": [
    "Комментарий  \n",
    "Здесь используется распределение Пуассона.   \n",
    "P(X=k)= (e<sup>−λ</sup>⋅λ<sup>k</sup>) / (k!).  \n",
    "λ = 16 / 8 = 2 события/час.  \n",
    "P(2 <= X <= 4) = P(X <= 4) - P(X >= 2)."
   ]
  },
  {
   "cell_type": "code",
   "execution_count": 27,
   "id": "bd0fee4c-1900-40e3-9fcb-58f025c43911",
   "metadata": {
    "jupyter": {
     "source_hidden": true
    }
   },
   "outputs": [
    {
     "data": {
      "image/png": "[encoded data removed]",
      "text/plain": [
       "<Figure size 1200x600 with 1 Axes>"
      ]
     },
     "metadata": {},
     "output_type": "display_data"
    },
    {
     "name": "stdout",
     "output_type": "stream",
     "text": [
      "Вероятность P(2 <= X <= 4) = 0.9473 - 0.4060 = 0.5413\n"
     ]
    }
   ],
   "source": [
    "import numpy as np\n",
    "import matplotlib.pyplot as plt\n",
    "from scipy.stats import poisson\n",
    "import math\n",
    "\n",
    "# Функция для расчета вероятности по формуле Пуассона\n",
    "def poisson_probability(k, lam):\n",
    "    return (math.exp(-lam) * (lam ** k)) / math.factorial(k)\n",
    "\n",
    "# Параметры\n",
    "lam = 2  # среднее количество событий\n",
    "max_k = 10  # максимальное значение k для графика\n",
    "\n",
    "# Генерация данных\n",
    "k_values = np.arange(0, max_k + 1)\n",
    "probabilities = [poisson_probability(k, lam) for k in k_values]\n",
    "\n",
    "# Использование scipy\n",
    "poisson_dist = poisson(lam)\n",
    "scipy_probabilities = poisson_dist.pmf(k_values)\n",
    "\n",
    "# Визуализация\n",
    "plt.figure(figsize=(12, 6))\n",
    "\n",
    "# График с использованием нашей функции\n",
    "plt.bar(k_values, probabilities, alpha=0.5, label='Ручная реализация', color='blue')\n",
    "\n",
    "# График с использованием scipy\n",
    "plt.plot(k_values, scipy_probabilities, 'ro-', label='Scipy реализация', markersize=8)\n",
    "\n",
    "plt.title(f'Распределение Пуассона (λ = {lam})')\n",
    "plt.xlabel('Количество событий (k)')\n",
    "plt.ylabel('Вероятность')\n",
    "plt.legend()\n",
    "plt.grid(True)\n",
    "plt.show()\n",
    "\n",
    "# Пример расчета\n",
    "print(f'Вероятность P(2 <= X <= 4) = {poisson_dist.cdf(4):.4f} - {poisson_dist.cdf(1):.4f} = {round(poisson_dist.cdf(4) - poisson_dist.cdf(1), 4)}')\n",
    "# poisson_dist.cdf(1) -- пишу 1, чтобы k=2 тоже включить по условию задачи. poisson_dist.cdf(4) - poisson_dist.cdf(2) = P(2 < X ≤ 4)"
   ]
  },
  {
   "cell_type": "markdown",
   "id": "fc7efe97-7748-4f40-8b33-473f90077422",
   "metadata": {},
   "source": [
    "Ответ:  \n",
    "0.5413\n"
   ]
  },
  {
   "cell_type": "markdown",
   "id": "bfc7c748-a227-41a3-89a3-8d6e20d78600",
   "metadata": {},
   "source": [
    "#### Задача 1.26  (1 балл)\n",
    "Какие из графов связны? Граф задан как ⟨V;P⟩, где последовательность P порождает неориентированный граф: рёбра — пары соседних элементов последовательности.  \n",
    "\n",
    "![](C:\\Users\\Svet\\Desktop\\1_26.jpg)\n",
    "\n",
    "Ответ:  \n",
    "Связными являются графы  \n",
    "⟨a,b,c,d,e; [a,b,c,d,e]⟩   \n",
    "⟨1,2,3,4,5; [1,3,3,2,2,4,4,5]⟩"
   ]
  },
  {
   "cell_type": "markdown",
   "id": "6b7d26b2-c284-46c5-97b7-47ac8e0ae580",
   "metadata": {},
   "source": [
    "#### Задача 1.27 (1 балл)\n",
    "Сколько компонент связности в неориентированном графе с матрицей смежности  \n",
    "![](C:\\Users\\Svet\\Desktop\\1_27.jpg)"
   ]
  },
  {
   "cell_type": "markdown",
   "id": "0677a436-7048-428f-b20b-9a3515c603f5",
   "metadata": {},
   "source": [
    "Комментарий  \n",
    "Согласно матрице соединены следующие вершины: 1-2, 1-4, 2-1, 2-3, 3-2, 3-4, 4-1, 4-3, 5-6, 6-5).  \n",
    "\n",
    "1-2  \n",
    "|**|  \n",
    "4-3 **** 5--6  /* - просто для заполнения\n",
    "\n",
    "=>, 2 компонента связности: {1, 2, 3, 4} и {5, 6}\n",
    "\n",
    "Ответ:  \n",
    "2"
   ]
  },
  {
   "cell_type": "markdown",
   "id": "66a0ec09-8182-4521-8d56-a5e940ecb670",
   "metadata": {},
   "source": [
    "#### Задача 1.28 (1 балл)  \n",
    "Простой неориентированный граф на 6 вершинах имеет минимальную степень δ=3 и максимальную степень Δ=3. Сколько рёбер может быть в таком графе?   \n",
    "\n",
    "Комментарий  \n",
    "\n",
    "Минимальная и максимальная степень равны. Значит, у каждой вершины  степень 3 . Вершин 6, =>, 6 * 3 = 18. \n",
    "Сумма степеней всех вершин равна удвоенному числу рёбер. Значит, количество ребёр = 18 / 2 = 9.  \n",
    "\n",
    "Ответ:  \n",
    "9"
   ]
  },
  {
   "cell_type": "markdown",
   "id": "1f0e153b-03ad-4ee7-8c1f-e82ec126efe2",
   "metadata": {},
   "source": [
    "#### Задача 1.29 (1 балл)  \n",
    "Представьте предложенные графы в виде матриц смежности:  \n",
    "\n",
    "![](C:\\Users\\Svet\\Desktop\\1_29.jpg)"
   ]
  },
  {
   "cell_type": "code",
   "execution_count": 19,
   "id": "bc845dba-1bcc-4945-b828-7d84119fb3f3",
   "metadata": {
    "jupyter": {
     "source_hidden": true
    }
   },
   "outputs": [
    {
     "name": "stdout",
     "output_type": "stream",
     "text": [
      "Ответ:\n",
      "\n",
      "\n"
     ]
    },
    {
     "data": {
      "text/html": [
       "<style type=\"text/css\">\n",
       "#T_552b0 th {\n",
       "  font-weight: bold;\n",
       "}\n",
       "#T_552b0 .index_name {\n",
       "  font-weight: bold;\n",
       "}\n",
       "#T_552b0 .index {\n",
       "  font-weight: bold;\n",
       "}\n",
       "</style>\n",
       "<table id=\"T_552b0\">\n",
       "  <thead>\n",
       "    <tr>\n",
       "      <th class=\"blank level0\" >&nbsp;</th>\n",
       "      <th id=\"T_552b0_level0_col0\" class=\"col_heading level0 col0\" >a</th>\n",
       "      <th id=\"T_552b0_level0_col1\" class=\"col_heading level0 col1\" >b</th>\n",
       "      <th id=\"T_552b0_level0_col2\" class=\"col_heading level0 col2\" >c</th>\n",
       "      <th id=\"T_552b0_level0_col3\" class=\"col_heading level0 col3\" >d</th>\n",
       "    </tr>\n",
       "  </thead>\n",
       "  <tbody>\n",
       "    <tr>\n",
       "      <th id=\"T_552b0_level0_row0\" class=\"row_heading level0 row0\" >a</th>\n",
       "      <td id=\"T_552b0_row0_col0\" class=\"data row0 col0\" >0</td>\n",
       "      <td id=\"T_552b0_row0_col1\" class=\"data row0 col1\" >1</td>\n",
       "      <td id=\"T_552b0_row0_col2\" class=\"data row0 col2\" >0</td>\n",
       "      <td id=\"T_552b0_row0_col3\" class=\"data row0 col3\" >1</td>\n",
       "    </tr>\n",
       "    <tr>\n",
       "      <th id=\"T_552b0_level0_row1\" class=\"row_heading level0 row1\" >b</th>\n",
       "      <td id=\"T_552b0_row1_col0\" class=\"data row1 col0\" >1</td>\n",
       "      <td id=\"T_552b0_row1_col1\" class=\"data row1 col1\" >0</td>\n",
       "      <td id=\"T_552b0_row1_col2\" class=\"data row1 col2\" >1</td>\n",
       "      <td id=\"T_552b0_row1_col3\" class=\"data row1 col3\" >0</td>\n",
       "    </tr>\n",
       "    <tr>\n",
       "      <th id=\"T_552b0_level0_row2\" class=\"row_heading level0 row2\" >c</th>\n",
       "      <td id=\"T_552b0_row2_col0\" class=\"data row2 col0\" >0</td>\n",
       "      <td id=\"T_552b0_row2_col1\" class=\"data row2 col1\" >1</td>\n",
       "      <td id=\"T_552b0_row2_col2\" class=\"data row2 col2\" >0</td>\n",
       "      <td id=\"T_552b0_row2_col3\" class=\"data row2 col3\" >1</td>\n",
       "    </tr>\n",
       "    <tr>\n",
       "      <th id=\"T_552b0_level0_row3\" class=\"row_heading level0 row3\" >d</th>\n",
       "      <td id=\"T_552b0_row3_col0\" class=\"data row3 col0\" >1</td>\n",
       "      <td id=\"T_552b0_row3_col1\" class=\"data row3 col1\" >0</td>\n",
       "      <td id=\"T_552b0_row3_col2\" class=\"data row3 col2\" >1</td>\n",
       "      <td id=\"T_552b0_row3_col3\" class=\"data row3 col3\" >0</td>\n",
       "    </tr>\n",
       "  </tbody>\n",
       "</table>\n"
      ],
      "text/plain": [
       "<pandas.io.formats.style.Styler at 0x1de6eb4edb0>"
      ]
     },
     "metadata": {},
     "output_type": "display_data"
    },
    {
     "name": "stdout",
     "output_type": "stream",
     "text": [
      "\n"
     ]
    },
    {
     "data": {
      "text/html": [
       "<style type=\"text/css\">\n",
       "#T_cbf0d th {\n",
       "  font-weight: bold;\n",
       "}\n",
       "#T_cbf0d .index_name {\n",
       "  font-weight: bold;\n",
       "}\n",
       "#T_cbf0d .index {\n",
       "  font-weight: bold;\n",
       "}\n",
       "</style>\n",
       "<table id=\"T_cbf0d\">\n",
       "  <thead>\n",
       "    <tr>\n",
       "      <th class=\"blank level0\" >&nbsp;</th>\n",
       "      <th id=\"T_cbf0d_level0_col0\" class=\"col_heading level0 col0\" >x</th>\n",
       "      <th id=\"T_cbf0d_level0_col1\" class=\"col_heading level0 col1\" >y</th>\n",
       "      <th id=\"T_cbf0d_level0_col2\" class=\"col_heading level0 col2\" >z</th>\n",
       "      <th id=\"T_cbf0d_level0_col3\" class=\"col_heading level0 col3\" >u</th>\n",
       "      <th id=\"T_cbf0d_level0_col4\" class=\"col_heading level0 col4\" >v</th>\n",
       "    </tr>\n",
       "  </thead>\n",
       "  <tbody>\n",
       "    <tr>\n",
       "      <th id=\"T_cbf0d_level0_row0\" class=\"row_heading level0 row0\" >x</th>\n",
       "      <td id=\"T_cbf0d_row0_col0\" class=\"data row0 col0\" >0</td>\n",
       "      <td id=\"T_cbf0d_row0_col1\" class=\"data row0 col1\" >0</td>\n",
       "      <td id=\"T_cbf0d_row0_col2\" class=\"data row0 col2\" >1</td>\n",
       "      <td id=\"T_cbf0d_row0_col3\" class=\"data row0 col3\" >1</td>\n",
       "      <td id=\"T_cbf0d_row0_col4\" class=\"data row0 col4\" >0</td>\n",
       "    </tr>\n",
       "    <tr>\n",
       "      <th id=\"T_cbf0d_level0_row1\" class=\"row_heading level0 row1\" >y</th>\n",
       "      <td id=\"T_cbf0d_row1_col0\" class=\"data row1 col0\" >0</td>\n",
       "      <td id=\"T_cbf0d_row1_col1\" class=\"data row1 col1\" >0</td>\n",
       "      <td id=\"T_cbf0d_row1_col2\" class=\"data row1 col2\" >1</td>\n",
       "      <td id=\"T_cbf0d_row1_col3\" class=\"data row1 col3\" >0</td>\n",
       "      <td id=\"T_cbf0d_row1_col4\" class=\"data row1 col4\" >0</td>\n",
       "    </tr>\n",
       "    <tr>\n",
       "      <th id=\"T_cbf0d_level0_row2\" class=\"row_heading level0 row2\" >z</th>\n",
       "      <td id=\"T_cbf0d_row2_col0\" class=\"data row2 col0\" >1</td>\n",
       "      <td id=\"T_cbf0d_row2_col1\" class=\"data row2 col1\" >1</td>\n",
       "      <td id=\"T_cbf0d_row2_col2\" class=\"data row2 col2\" >0</td>\n",
       "      <td id=\"T_cbf0d_row2_col3\" class=\"data row2 col3\" >0</td>\n",
       "      <td id=\"T_cbf0d_row2_col4\" class=\"data row2 col4\" >1</td>\n",
       "    </tr>\n",
       "    <tr>\n",
       "      <th id=\"T_cbf0d_level0_row3\" class=\"row_heading level0 row3\" >u</th>\n",
       "      <td id=\"T_cbf0d_row3_col0\" class=\"data row3 col0\" >1</td>\n",
       "      <td id=\"T_cbf0d_row3_col1\" class=\"data row3 col1\" >0</td>\n",
       "      <td id=\"T_cbf0d_row3_col2\" class=\"data row3 col2\" >1</td>\n",
       "      <td id=\"T_cbf0d_row3_col3\" class=\"data row3 col3\" >0</td>\n",
       "      <td id=\"T_cbf0d_row3_col4\" class=\"data row3 col4\" >1</td>\n",
       "    </tr>\n",
       "    <tr>\n",
       "      <th id=\"T_cbf0d_level0_row4\" class=\"row_heading level0 row4\" >v</th>\n",
       "      <td id=\"T_cbf0d_row4_col0\" class=\"data row4 col0\" >0</td>\n",
       "      <td id=\"T_cbf0d_row4_col1\" class=\"data row4 col1\" >0</td>\n",
       "      <td id=\"T_cbf0d_row4_col2\" class=\"data row4 col2\" >1</td>\n",
       "      <td id=\"T_cbf0d_row4_col3\" class=\"data row4 col3\" >1</td>\n",
       "      <td id=\"T_cbf0d_row4_col4\" class=\"data row4 col4\" >0</td>\n",
       "    </tr>\n",
       "  </tbody>\n",
       "</table>\n"
      ],
      "text/plain": [
       "<pandas.io.formats.style.Styler at 0x1de6eaee660>"
      ]
     },
     "metadata": {},
     "output_type": "display_data"
    },
    {
     "name": "stdout",
     "output_type": "stream",
     "text": [
      "\n"
     ]
    },
    {
     "data": {
      "text/html": [
       "<style type=\"text/css\">\n",
       "#T_ddee3 th {\n",
       "  font-weight: bold;\n",
       "}\n",
       "#T_ddee3 .index_name {\n",
       "  font-weight: bold;\n",
       "}\n",
       "#T_ddee3 .index {\n",
       "  font-weight: bold;\n",
       "}\n",
       "</style>\n",
       "<table id=\"T_ddee3\">\n",
       "  <thead>\n",
       "    <tr>\n",
       "      <th class=\"blank level0\" >&nbsp;</th>\n",
       "      <th id=\"T_ddee3_level0_col0\" class=\"col_heading level0 col0\" >1</th>\n",
       "      <th id=\"T_ddee3_level0_col1\" class=\"col_heading level0 col1\" >2</th>\n",
       "      <th id=\"T_ddee3_level0_col2\" class=\"col_heading level0 col2\" >3</th>\n",
       "      <th id=\"T_ddee3_level0_col3\" class=\"col_heading level0 col3\" >4</th>\n",
       "      <th id=\"T_ddee3_level0_col4\" class=\"col_heading level0 col4\" >5</th>\n",
       "      <th id=\"T_ddee3_level0_col5\" class=\"col_heading level0 col5\" >6</th>\n",
       "      <th id=\"T_ddee3_level0_col6\" class=\"col_heading level0 col6\" >7</th>\n",
       "    </tr>\n",
       "  </thead>\n",
       "  <tbody>\n",
       "    <tr>\n",
       "      <th id=\"T_ddee3_level0_row0\" class=\"row_heading level0 row0\" >1</th>\n",
       "      <td id=\"T_ddee3_row0_col0\" class=\"data row0 col0\" >0</td>\n",
       "      <td id=\"T_ddee3_row0_col1\" class=\"data row0 col1\" >0</td>\n",
       "      <td id=\"T_ddee3_row0_col2\" class=\"data row0 col2\" >0</td>\n",
       "      <td id=\"T_ddee3_row0_col3\" class=\"data row0 col3\" >1</td>\n",
       "      <td id=\"T_ddee3_row0_col4\" class=\"data row0 col4\" >0</td>\n",
       "      <td id=\"T_ddee3_row0_col5\" class=\"data row0 col5\" >1</td>\n",
       "      <td id=\"T_ddee3_row0_col6\" class=\"data row0 col6\" >0</td>\n",
       "    </tr>\n",
       "    <tr>\n",
       "      <th id=\"T_ddee3_level0_row1\" class=\"row_heading level0 row1\" >2</th>\n",
       "      <td id=\"T_ddee3_row1_col0\" class=\"data row1 col0\" >0</td>\n",
       "      <td id=\"T_ddee3_row1_col1\" class=\"data row1 col1\" >0</td>\n",
       "      <td id=\"T_ddee3_row1_col2\" class=\"data row1 col2\" >1</td>\n",
       "      <td id=\"T_ddee3_row1_col3\" class=\"data row1 col3\" >0</td>\n",
       "      <td id=\"T_ddee3_row1_col4\" class=\"data row1 col4\" >0</td>\n",
       "      <td id=\"T_ddee3_row1_col5\" class=\"data row1 col5\" >1</td>\n",
       "      <td id=\"T_ddee3_row1_col6\" class=\"data row1 col6\" >1</td>\n",
       "    </tr>\n",
       "    <tr>\n",
       "      <th id=\"T_ddee3_level0_row2\" class=\"row_heading level0 row2\" >3</th>\n",
       "      <td id=\"T_ddee3_row2_col0\" class=\"data row2 col0\" >0</td>\n",
       "      <td id=\"T_ddee3_row2_col1\" class=\"data row2 col1\" >1</td>\n",
       "      <td id=\"T_ddee3_row2_col2\" class=\"data row2 col2\" >0</td>\n",
       "      <td id=\"T_ddee3_row2_col3\" class=\"data row2 col3\" >0</td>\n",
       "      <td id=\"T_ddee3_row2_col4\" class=\"data row2 col4\" >1</td>\n",
       "      <td id=\"T_ddee3_row2_col5\" class=\"data row2 col5\" >0</td>\n",
       "      <td id=\"T_ddee3_row2_col6\" class=\"data row2 col6\" >0</td>\n",
       "    </tr>\n",
       "    <tr>\n",
       "      <th id=\"T_ddee3_level0_row3\" class=\"row_heading level0 row3\" >4</th>\n",
       "      <td id=\"T_ddee3_row3_col0\" class=\"data row3 col0\" >1</td>\n",
       "      <td id=\"T_ddee3_row3_col1\" class=\"data row3 col1\" >0</td>\n",
       "      <td id=\"T_ddee3_row3_col2\" class=\"data row3 col2\" >0</td>\n",
       "      <td id=\"T_ddee3_row3_col3\" class=\"data row3 col3\" >0</td>\n",
       "      <td id=\"T_ddee3_row3_col4\" class=\"data row3 col4\" >0</td>\n",
       "      <td id=\"T_ddee3_row3_col5\" class=\"data row3 col5\" >1</td>\n",
       "      <td id=\"T_ddee3_row3_col6\" class=\"data row3 col6\" >0</td>\n",
       "    </tr>\n",
       "    <tr>\n",
       "      <th id=\"T_ddee3_level0_row4\" class=\"row_heading level0 row4\" >5</th>\n",
       "      <td id=\"T_ddee3_row4_col0\" class=\"data row4 col0\" >0</td>\n",
       "      <td id=\"T_ddee3_row4_col1\" class=\"data row4 col1\" >0</td>\n",
       "      <td id=\"T_ddee3_row4_col2\" class=\"data row4 col2\" >1</td>\n",
       "      <td id=\"T_ddee3_row4_col3\" class=\"data row4 col3\" >0</td>\n",
       "      <td id=\"T_ddee3_row4_col4\" class=\"data row4 col4\" >0</td>\n",
       "      <td id=\"T_ddee3_row4_col5\" class=\"data row4 col5\" >0</td>\n",
       "      <td id=\"T_ddee3_row4_col6\" class=\"data row4 col6\" >0</td>\n",
       "    </tr>\n",
       "    <tr>\n",
       "      <th id=\"T_ddee3_level0_row5\" class=\"row_heading level0 row5\" >6</th>\n",
       "      <td id=\"T_ddee3_row5_col0\" class=\"data row5 col0\" >1</td>\n",
       "      <td id=\"T_ddee3_row5_col1\" class=\"data row5 col1\" >1</td>\n",
       "      <td id=\"T_ddee3_row5_col2\" class=\"data row5 col2\" >0</td>\n",
       "      <td id=\"T_ddee3_row5_col3\" class=\"data row5 col3\" >0</td>\n",
       "      <td id=\"T_ddee3_row5_col4\" class=\"data row5 col4\" >0</td>\n",
       "      <td id=\"T_ddee3_row5_col5\" class=\"data row5 col5\" >0</td>\n",
       "      <td id=\"T_ddee3_row5_col6\" class=\"data row5 col6\" >1</td>\n",
       "    </tr>\n",
       "    <tr>\n",
       "      <th id=\"T_ddee3_level0_row6\" class=\"row_heading level0 row6\" >7</th>\n",
       "      <td id=\"T_ddee3_row6_col0\" class=\"data row6 col0\" >0</td>\n",
       "      <td id=\"T_ddee3_row6_col1\" class=\"data row6 col1\" >1</td>\n",
       "      <td id=\"T_ddee3_row6_col2\" class=\"data row6 col2\" >0</td>\n",
       "      <td id=\"T_ddee3_row6_col3\" class=\"data row6 col3\" >1</td>\n",
       "      <td id=\"T_ddee3_row6_col4\" class=\"data row6 col4\" >0</td>\n",
       "      <td id=\"T_ddee3_row6_col5\" class=\"data row6 col5\" >1</td>\n",
       "      <td id=\"T_ddee3_row6_col6\" class=\"data row6 col6\" >0</td>\n",
       "    </tr>\n",
       "  </tbody>\n",
       "</table>\n"
      ],
      "text/plain": [
       "<pandas.io.formats.style.Styler at 0x1de6eb85940>"
      ]
     },
     "metadata": {},
     "output_type": "display_data"
    }
   ],
   "source": [
    "import pandas as pd\n",
    "\n",
    "print(\"Ответ:\")\n",
    "print()\n",
    "print()\n",
    "# Создаем словарь с данными\n",
    "data_1 = {\n",
    "    'a': [0, 1, 0, 1],\n",
    "    'b': [1, 0, 1, 0],\n",
    "    'c': [0, 1, 0, 1],\n",
    "    'd': [1, 0, 1, 0]\n",
    "}\n",
    "\n",
    "# Создаем DataFrame с указанными индексами\n",
    "df_1 = pd.DataFrame(data_1, index=['a', 'b', 'c', 'd'])\n",
    "\n",
    "styled_df_1 = df_1.style.set_table_styles([\n",
    "    {'selector': 'th',  # для заголовков столбцов\n",
    "     'props': [('font-weight', 'bold')]},\n",
    "    {'selector': '.index_name',  # для названия индекса\n",
    "     'props': [('font-weight', 'bold')]},\n",
    "    {'selector': '.index',  # для значений индекса (названий строк)\n",
    "     'props': [('font-weight', 'bold')]}\n",
    "])\n",
    "\n",
    "display(styled_df_1)\n",
    "\n",
    "\n",
    "data_2 = {\n",
    "    'x': [0, 0, 1, 1, 0],\n",
    "    'y': [0, 0, 1, 0, 0],\n",
    "    'z': [1, 1, 0, 1, 1],\n",
    "    'u': [1, 0, 0, 0, 1],\n",
    "    'v': [0, 0, 1, 1, 0]\n",
    "}\n",
    "\n",
    "print()\n",
    "\n",
    "# Создаем DataFrame с указанными индексами\n",
    "df_2 = pd.DataFrame(data_2, index=['x', 'y', 'z', 'u', 'v'])\n",
    "\n",
    "\n",
    "\n",
    "styled_df_2 = df_2.style.set_table_styles([\n",
    "    {'selector': 'th',  # для заголовков столбцов\n",
    "     'props': [('font-weight', 'bold')]},\n",
    "    {'selector': '.index_name',  # для названия индекса\n",
    "     'props': [('font-weight', 'bold')]},\n",
    "    {'selector': '.index',  # для значений индекса (названий строк)\n",
    "     'props': [('font-weight', 'bold')]}\n",
    "])\n",
    "\n",
    "display(styled_df_2)\n",
    "\n",
    "\n",
    "data_3 = {\n",
    "    '1': [0, 0, 0, 1, 0, 1, 0],\n",
    "    '2': [0, 0, 1, 0, 0, 1, 1],\n",
    "    '3': [0, 1, 0, 0, 1, 0, 0],\n",
    "    '4': [1, 0, 0, 0, 0, 0, 1],\n",
    "    '5': [0, 0, 1, 0, 0, 0, 0],\n",
    "    '6': [1, 1, 0, 1, 0, 0, 1],\n",
    "    '7': [0, 1, 0, 0, 0, 1, 0],\n",
    "}\n",
    "\n",
    "print()\n",
    "\n",
    "# Создаем DataFrame с указанными индексами\n",
    "df_3 = pd.DataFrame(data_3, index=['1', '2', '3', '4', '5', '6', '7'])\n",
    "\n",
    "\n",
    "\n",
    "styled_df_3 = df_3.style.set_table_styles([\n",
    "    {'selector': 'th',  # для заголовков столбцов\n",
    "     'props': [('font-weight', 'bold')]},\n",
    "    {'selector': '.index_name',  # для названия индекса\n",
    "     'props': [('font-weight', 'bold')]},\n",
    "    {'selector': '.index',  # для значений индекса (названий строк)\n",
    "     'props': [('font-weight', 'bold')]}\n",
    "])\n",
    "\n",
    "display(styled_df_3)"
   ]
  }
 ],
 "metadata": {
  "kernelspec": {
   "display_name": "Python 3 (ipykernel)",
   "language": "python",
   "name": "python3"
  },
  "language_info": {
   "codemirror_mode": {
    "name": "ipython",
    "version": 3
   },
   "file_extension": ".py",
   "mimetype": "text/x-python",
   "name": "python",
   "nbconvert_exporter": "python",
   "pygments_lexer": "ipython3",
   "version": "3.12.4"
  }
 },
 "nbformat": 4,
 "nbformat_minor": 5
}
